{
 "cells": [
  {
   "cell_type": "code",
   "execution_count": 1,
   "metadata": {},
   "outputs": [
    {
     "name": "stdout",
     "output_type": "stream",
     "text": [
      "First_name : Wahaj\n",
      "Last_name : Ansari\n",
      "Age : 22\n",
      "City : Karachi\n",
      "A D D E D\n",
      "First_name : Wahaj\n",
      "Last_name : Ansari\n",
      "Age : 22\n",
      "City : Karachi\n",
      "Edu : Intermediate\n",
      "U P D A T E D\n",
      "First_name : Wahaj\n",
      "Last_name : Ansari\n",
      "Age : 22\n",
      "City : Karachi\n",
      "Edu : BCS\n",
      "D E L E T E D\n",
      "First_name : Wahaj\n",
      "Last_name : Ansari\n",
      "Age : 22\n",
      "City : Karachi\n"
     ]
    }
   ],
   "source": [
    "dict = {'First_name' : 'Wahaj',\n",
    "        'Last_name' : 'Ansari',\n",
    "        'Age' : '22',\n",
    "        'City' : 'Karachi'}\n",
    "for x,y in dict.items():\n",
    "    print(x + \" : \" + y)\n",
    "\n",
    "dict['Edu'] = 'Intermediate'\n",
    "\n",
    "print('A D D E D')\n",
    "for x,y in dict.items():\n",
    "    print(x + \" : \" + y)\n",
    "\n",
    "dict['Edu'] = 'BCS'\n",
    "print('U P D A T E D')\n",
    "for x,y in dict.items():\n",
    "    print(x + \" : \" + y)\n",
    "    \n",
    "del dict['Edu']\n",
    "print('D E L E T E D')\n",
    "for x,y in dict.items():\n",
    "    print(x + \" : \" + y)"
   ]
  },
  {
   "cell_type": "code",
   "execution_count": 2,
   "metadata": {},
   "outputs": [
    {
     "name": "stdout",
     "output_type": "stream",
     "text": [
      "\n",
      "Karachi is in Pakistan.\n",
      "It has a population of about 5 lac.\n",
      "\n",
      "Quetta is in Pakistan.\n",
      "It has a population of about 2 lac.\n",
      "\n",
      "Lahore is in Pakistan.\n",
      "It has a population of about 3 lac.\n",
      "Beautiful People\n"
     ]
    }
   ],
   "source": [
    "cities = {'Karachi' : {'country' : 'Pakistan', 'population' : '5 lac', 'fact' : 'it has seaside'},\n",
    "          'Quetta' : {'country' : 'Pakistan', 'population' : '2 lac', 'fact' : 'city of tea'},\n",
    "          'Lahore' : {'country' : 'Pakistan', 'population' : '3 lac', 'fact' : 'beautiful people'}}\n",
    "          \n",
    "\n",
    "for city,info in cities.items():\n",
    "    country = info['country'].title()\n",
    "    population = info['population']\n",
    "    fact = info['fact'].title()\n",
    "\n",
    "    print(\"\\n\" + city.title() + \" is in \" + country + \".\")\n",
    "    print(\"It has a population of about \" + str(population) + \".\")\n",
    "print(fact)"
   ]
  },
  {
   "cell_type": "code",
   "execution_count": 4,
   "metadata": {},
   "outputs": [
    {
     "name": "stdout",
     "output_type": "stream",
     "text": [
      "Enter your age = 22\n",
      "cost is 15$\n"
     ]
    }
   ],
   "source": [
    "age = int(input('Enter your age = '))\n",
    "if age < 3:\n",
    "    print('Ticket is free')\n",
    "elif age >= 3 and age <= 12:\n",
    "    print('cost is 10$')    \n",
    "else:\n",
    "    print('cost is 15$')\n"
   ]
  },
  {
   "cell_type": "code",
   "execution_count": 5,
   "metadata": {},
   "outputs": [
    {
     "name": "stdout",
     "output_type": "stream",
     "text": [
      "Alice is one of my favourite books\n"
     ]
    }
   ],
   "source": [
    "def fav_book(title):\n",
    "    print(title + ' is one of my favourite books')\n",
    "    \n",
    "fav_book('Alice')"
   ]
  },
  {
   "cell_type": "code",
   "execution_count": 6,
   "metadata": {},
   "outputs": [
    {
     "name": "stdout",
     "output_type": "stream",
     "text": [
      "guess the correct number = 4\n",
      "bingo\n",
      "guess the correct number = 9\n",
      "oops! your guess is greater than the correct\n",
      "guess the correct number = 3\n",
      "oops! your guess is less than the correct\n",
      "correct answer is 4\n"
     ]
    }
   ],
   "source": [
    "import random\n",
    "\n",
    "num = random.randint(1,30)\n",
    "\n",
    "\n",
    "i = 0\n",
    "\n",
    "\n",
    "while i != 3:\n",
    "    \n",
    "    guess = int(input('guess the correct number = '))\n",
    "    if num == guess:\n",
    "        print('bingo')\n",
    "    elif guess<num:\n",
    "        print('oops! your guess is less than the correct')\n",
    "    elif guess>num:\n",
    "        print('oops! your guess is greater than the correct')\n",
    "    i = i+ 1\n",
    "\n",
    "print('correct answer is ' + str(num))"
   ]
  },
  {
   "cell_type": "code",
   "execution_count": null,
   "metadata": {},
   "outputs": [],
   "source": []
  }
 ],
 "metadata": {
  "kernelspec": {
   "display_name": "Python 3",
   "language": "python",
   "name": "python3"
  },
  "language_info": {
   "codemirror_mode": {
    "name": "ipython",
    "version": 3
   },
   "file_extension": ".py",
   "mimetype": "text/x-python",
   "name": "python",
   "nbconvert_exporter": "python",
   "pygments_lexer": "ipython3",
   "version": "3.7.4"
  }
 },
 "nbformat": 4,
 "nbformat_minor": 2
}
