{
 "cells": [
  {
   "cell_type": "code",
   "execution_count": null,
   "metadata": {},
   "outputs": [],
   "source": [
    "class Car():\n",
    "    def __init__(self,name,color,model,company,weight):\n",
    "        self.name = name\n",
    "        self.color = color\n",
    "        self.model = model\n",
    "        self.company = company\n",
    "        self.weight = weight\n",
    "c1 = car('vitz', 'silver', 2012, 'toyota', '900kg')\n",
    "c2 = car('civic', 'red', 2018, 'honda', '950kg')\n",
    "c3 = car('city', 'black', 2015, 'honda', '800kg')\n",
    "c4 = car('bmw', 'black', 2017, 'bmw', '700kg')\n",
    "c5 = car('coure', 'green', 2013, 'dyhatsu', '660kg')\n",
    "    def color(car.color):\n",
    "        if self.color == color:\n",
    "            print('available')\n",
    "color(red)            \n",
    "\n",
    "    def model(car.model):\n",
    "        if car.model == model:\n",
    "            print('in stock')\n",
    "model(2012)\n",
    "\n",
    "    def name(car.name):\n",
    "        if car.name == name:\n",
    "            print('available')\n",
    "            \n",
    "            \n",
    "\"\"\"ans 1 - oop is a type of programming in which objects (classes) are used to do specific tasks.\n",
    "ans 2 - It provides a clear modular structure for programs which makes it good for defining abstract datatypes in which implementation details are hidden\n",
    "Objects can also be reused within an across applications. The reuse of software also lowers the cost of development. More effort is put into the object-oriented analysis and design, which lowers the overall cost of development.\n",
    "It makes software easier to maintain. Since the design is modular, part of the system can be updated in case of issues without a need to make large-scale changes\n",
    "ans 3 - we define a variable in ordinary programming to perform special tasks is called function while function in a class is called method.\n",
    "ans 4 - class - class is like a form in which information is gathered.\n",
    "object - a copy of a form is called an object.\n",
    "attribute - one information in a form (class) is counted as one attribute\n",
    "\"\"\""
   ]
  }
 ],
 "metadata": {
  "kernelspec": {
   "display_name": "Python 3",
   "language": "python",
   "name": "python3"
  },
  "language_info": {
   "codemirror_mode": {
    "name": "ipython",
    "version": 3
   },
   "file_extension": ".py",
   "mimetype": "text/x-python",
   "name": "python",
   "nbconvert_exporter": "python",
   "pygments_lexer": "ipython3",
   "version": "3.7.4"
  }
 },
 "nbformat": 4,
 "nbformat_minor": 2
}
