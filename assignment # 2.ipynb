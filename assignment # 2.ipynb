{
 "cells": [
  {
   "cell_type": "code",
   "execution_count": 4,
   "metadata": {},
   "outputs": [
    {
     "name": "stdout",
     "output_type": "stream",
     "text": [
      "Enter marks of the first subject: 56\n",
      "Enter marks of the second subject: 67\n",
      "Enter marks of the third subject: 78\n",
      "Enter marks of the fourth subject: 87\n",
      "Enter marks of the fifth subject: 76\n",
      "Grade: A\n"
     ]
    }
   ],
   "source": [
    "eng=int(input(\"Enter marks of the first subject: \"))\n",
    "urdu=int(input(\"Enter marks of the second subject: \"))\n",
    "phy=int(input(\"Enter marks of the third subject: \"))\n",
    "chm=int(input(\"Enter marks of the fourth subject: \"))\n",
    "com=int(input(\"Enter marks of the fifth subject: \"))\n",
    "\n",
    "t=(eng+urdu+phy+chm+com)/5\n",
    "\n",
    "if ( t >= 80 ):\n",
    "    print (\"Grade: A1\")\n",
    "elif ( t >= 70 and t < 80 ):\n",
    "    print (\"Grade: A\")\n",
    "elif( t >= 60 and t < 70 ):\n",
    "    print (\"Grade: B\")\n",
    "elif( t >= 50 and t < 60 ):\n",
    "    print (\"Grade: C\")\n",
    "elif( t >= 40 and t < 50 ):\n",
    "    print (\"Grade: D\")\n",
    "else:\n",
    "    print (\"Grade: F\")"
   ]
  },
  {
   "cell_type": "code",
   "execution_count": 2,
   "metadata": {},
   "outputs": [
    {
     "name": "stdout",
     "output_type": "stream",
     "text": [
      "Enter a number: 9\n",
      "This is an odd number.\n"
     ]
    }
   ],
   "source": [
    "num = int(input(\"Enter a number: \"))\n",
    "x = num % 2\n",
    "if x > 0:\n",
    "    print(\"This is an odd number.\")\n",
    "else:\n",
    "    print(\"This is an even number.\")\n"
   ]
  },
  {
   "cell_type": "code",
   "execution_count": 3,
   "metadata": {},
   "outputs": [
    {
     "name": "stdout",
     "output_type": "stream",
     "text": [
      "[] length is 0\n",
      "[1, 2, 3] length is 3\n",
      "(1, 2, 3) length is 3\n",
      "Length of range(1, 10) is 9\n"
     ]
    }
   ],
   "source": [
    "List = []\n",
    "print(List, 'length is', len(List))\n",
    "\n",
    "List = [1, 2, 3]\n",
    "print(List, 'length is', len(List))\n",
    "\n",
    "Tuple = (1, 2, 3)\n",
    "print(Tuple, 'length is', len(Tuple))\n",
    "\n",
    "Range = range(1, 10)\n",
    "print('Length of', Range, 'is', len(Range))\n"
   ]
  },
  {
   "cell_type": "code",
   "execution_count": 5,
   "metadata": {},
   "outputs": [
    {
     "name": "stdout",
     "output_type": "stream",
     "text": [
      "Sum of elements in given list is : 12\n"
     ]
    }
   ],
   "source": [
    "list = [2,2,2,2,2,2]\n",
    "\n",
    "print(\"Sum of elements in given list is :\", sum(list))\n",
    "\n"
   ]
  },
  {
   "cell_type": "code",
   "execution_count": 6,
   "metadata": {},
   "outputs": [
    {
     "name": "stdout",
     "output_type": "stream",
     "text": [
      "Largest element is: 69\n"
     ]
    }
   ],
   "source": [
    "num_list = [11, 21, 10, 49, 69] \n",
    "  \n",
    "print(\"Largest element is:\", max(num_list)) \n",
    "\n"
   ]
  },
  {
   "cell_type": "code",
   "execution_count": 7,
   "metadata": {},
   "outputs": [
    {
     "name": "stdout",
     "output_type": "stream",
     "text": [
      "Choose a number: 5\n",
      "[1, 1, 2, 3]\n"
     ]
    }
   ],
   "source": [
    "a = [1, 1, 2, 3, 5, 8, 13, 21, 34, 55, 89]\n",
    "\n",
    "num = int(input(\"Choose a number: \"))\n",
    "\n",
    "ans_list = []\n",
    "\n",
    "for i in a:\n",
    " if i < num:\n",
    "     ans_list.append(i)\n",
    "\n",
    "print (ans_list)"
   ]
  },
  {
   "cell_type": "code",
   "execution_count": null,
   "metadata": {},
   "outputs": [],
   "source": []
  }
 ],
 "metadata": {
  "kernelspec": {
   "display_name": "Python 3",
   "language": "python",
   "name": "python3"
  },
  "language_info": {
   "codemirror_mode": {
    "name": "ipython",
    "version": 3
   },
   "file_extension": ".py",
   "mimetype": "text/x-python",
   "name": "python",
   "nbconvert_exporter": "python",
   "pygments_lexer": "ipython3",
   "version": "3.7.4"
  }
 },
 "nbformat": 4,
 "nbformat_minor": 2
}
